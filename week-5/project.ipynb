{
 "cells": [
  {
   "cell_type": "code",
   "execution_count": null,
   "metadata": {},
   "outputs": [],
   "source": [
    "def calculate_area(radius):\n",
    "  return 3.14 * (radius ** 2)"
   ]
  },
  {
   "cell_type": "code",
   "execution_count": null,
   "metadata": {},
   "outputs": [],
   "source": [
    "def is_palindrome(string):\n",
    "  for i in range(len(string)):\n",
    "    front = string[i]\n",
    "    back = string[-(i+1)]\n",
    "    if front != back:\n",
    "      return False\n",
    "\n",
    "  return True\n",
    "\n",
    "print(is_palindrome(\"racecar\"))\n",
    "print(is_palindrome(\"cabbage\"))\n",
    "print(is_palindrome(\"madam\"))"
   ]
  },
  {
   "cell_type": "code",
   "execution_count": null,
   "metadata": {},
   "outputs": [],
   "source": [
    "def find_factors(num):\n",
    "  factors = []\n",
    "  for i in range(1, int(num/2) + 1):\n",
    "    if (num / i).is_integer():\n",
    "      factors.append(i)\n",
    "  factors.append(num)\n",
    "  return factors\n",
    "\n",
    "print(find_factors(100))\n",
    "print(find_factors(20))"
   ]
  },
  {
   "cell_type": "markdown",
   "metadata": {},
   "source": [
    "```py\n",
    "def modify_list(my_list):\n",
    " my_list.append(4)\n",
    " my_list = [7, 8, 9]\n",
    " my_list.append(10)\n",
    " return my_list\n",
    "\n",
    "original = [1, 2, 3]\n",
    "modified = modify_list(original)\n",
    "print(original)\n",
    "print(modified)\n",
    "```\n",
    "\n",
    "The above code will print [1,2,3,4] and then print [7,8,9,10]. This is because the original array is passed into the modify_list function and has 4 appended to it before the reference it discarded in favour of a new array containing 7,8,9. The new array has 10 appended to it and then it is returned from the function."
   ]
  },
  {
   "cell_type": "code",
   "execution_count": null,
   "metadata": {},
   "outputs": [],
   "source": [
    "def swap_first_last(list):\n",
    "  temp = list[-1]\n",
    "  list[-1] = list[0]\n",
    "  list[0] = temp\n",
    "\n",
    "test = [1,2,3,4]\n",
    "swap_first_last(test)\n",
    "print(test)"
   ]
  },
  {
   "cell_type": "code",
   "execution_count": null,
   "metadata": {},
   "outputs": [],
   "source": [
    "def greet(name, greeting = \"Hello\"):\n",
    "  return f\"{greeting} {name}\"\n",
    "\n",
    "print(greet(\"Tobani\"))\n",
    "print(greet(\"Miracle\", \"Salutations\"))"
   ]
  },
  {
   "cell_type": "markdown",
   "metadata": {},
   "source": [
    "```py\n",
    "x = 10\n",
    "def outer_func():\n",
    " x = 20\n",
    " def inner_func():\n",
    "  global x\n",
    "  x = 30\n",
    " inner_func()\n",
    " print(\"x in outer_func:\", x)\n",
    "outer_func()\n",
    "print(\"x in global:\", x)\n",
    "```\n",
    "\n",
    "The output of the above code is \"x in outer_func: 20\", and \"x in global: 30\", this is because in outer_func's immediate scope, x is defined as 20, but in inner_func the global x is altered to be equal to 30"
   ]
  }
 ],
 "metadata": {
  "kernelspec": {
   "display_name": "Python 3",
   "language": "python",
   "name": "python3"
  },
  "language_info": {
   "codemirror_mode": {
    "name": "ipython",
    "version": 3
   },
   "file_extension": ".py",
   "mimetype": "text/x-python",
   "name": "python",
   "nbconvert_exporter": "python",
   "pygments_lexer": "ipython3",
   "version": "3.12.9"
  },
  "orig_nbformat": 4
 },
 "nbformat": 4,
 "nbformat_minor": 2
}
