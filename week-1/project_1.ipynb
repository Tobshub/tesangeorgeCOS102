{
 "cells": [
  {
   "cell_type": "code",
   "execution_count": 1,
   "metadata": {},
   "outputs": [
    {
     "name": "stdout",
     "output_type": "stream",
     "text": [
      "Selected Simple Interest\n",
      "Amount =  112000.00000000001\n"
     ]
    }
   ],
   "source": [
    "calc_option = int(input(\"Choose an option (1-3):\\n 1. Simple Interest\\n 2. Compound Interest\\n 3. Annuity Plan\\n\"))\n",
    "if calc_option == 1:\n",
    "  print(\"Selected Simple Interest\")\n",
    "  p = float(input(\"Enter p: \"))\n",
    "  r = float(input(\"Enter r:\"))\n",
    "  t = float(input(\"Enter t: \"))\n",
    "  a = p * (1 + (r / 100) * t)\n",
    "  print(\"Amount = \", a)\n",
    "elif calc_option == 2:\n",
    "  print(\"Selected Compound Interest\")\n",
    "  p = float(input(\"Enter p: \"))\n",
    "  r = float(input(\"Enter r:\"))\n",
    "  n = float(input(\"Enter n:\"))\n",
    "  t = float(input(\"Enter t: \"))\n",
    "  a = p * (1 + r / n) ** (n * t)\n",
    "  print(\"Amount = \", a)\n",
    "elif calc_option == 3:\n",
    "  print(\"Selected Annuity Plan\")\n",
    "  pmt = float(input(\"Enter pmt: \"))\n",
    "  r = float(input(\"Enter r:\"))\n",
    "  n = float(input(\"Enter n:\"))\n",
    "  t = float(input(\"Enter t: \"))\n",
    "  a = pmt * ((1 + r / n) ** (n * t) - 1) / (r / n)\n",
    "  print(\"Amount = \", a)\n"
   ]
  }
 ],
 "metadata": {
  "kernelspec": {
   "display_name": "Python 3",
   "language": "python",
   "name": "python3"
  },
  "language_info": {
   "codemirror_mode": {
    "name": "ipython",
    "version": 3
   },
   "file_extension": ".py",
   "mimetype": "text/x-python",
   "name": "python",
   "nbconvert_exporter": "python",
   "pygments_lexer": "ipython3",
   "version": "3.12.9"
  },
  "orig_nbformat": 4
 },
 "nbformat": 4,
 "nbformat_minor": 2
}
