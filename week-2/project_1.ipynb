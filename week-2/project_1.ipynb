{
 "cells": [
  {
   "cell_type": "markdown",
   "metadata": {},
   "source": [
    "# pseudocode for store checkout after purchase\n",
    "Start\n",
    "Set total_price to 0\n",
    "Print \"scan your items\"\n",
    "WHILE items left to scan greater than 0\n",
    "      Scan next item\n",
    "      Add item price to total_price\n",
    "END WHILE\n",
    "Show total price\n",
    "Input payment method(cash/card/transfer)\n",
    "Process payment method\n",
    "Print receipt"
   ]
  },
  {
   "cell_type": "markdown",
   "metadata": {},
   "source": [
    "# Algorithm to take two names and corresponding ages and swap the ages\n",
    "Start\n",
    "Input name1\n",
    "Input age1\n",
    "Input name2\n",
    "Input age2\n",
    "Display name1 with age2\n",
    "Display name2 with age1"
   ]
  }
 ],
 "metadata": {
  "language_info": {
   "name": "python"
  },
  "orig_nbformat": 4
 },
 "nbformat": 4,
 "nbformat_minor": 2
}
